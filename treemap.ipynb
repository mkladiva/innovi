{
 "cells": [
  {
   "cell_type": "code",
   "execution_count": 1,
   "id": "8935d459-c4ba-4f1b-9509-fa83ab95e8fb",
   "metadata": {
    "execution": {
     "iopub.execute_input": "2024-09-27T05:28:36.222358Z",
     "iopub.status.busy": "2024-09-27T05:28:36.221623Z",
     "iopub.status.idle": "2024-09-27T05:28:36.625255Z",
     "shell.execute_reply": "2024-09-27T05:28:36.624519Z",
     "shell.execute_reply.started": "2024-09-27T05:28:36.222290Z"
    }
   },
   "outputs": [],
   "source": [
    "import requests\n",
    "import pandas as pd\n",
    "import numpy as np\n",
    "import plotly"
   ]
  },
  {
   "cell_type": "code",
   "execution_count": 2,
   "id": "be58d04f-55cb-4f44-9db6-074dc869d5a3",
   "metadata": {
    "editable": true,
    "execution": {
     "iopub.execute_input": "2024-09-27T05:28:37.414805Z",
     "iopub.status.busy": "2024-09-27T05:28:37.413805Z",
     "iopub.status.idle": "2024-09-27T05:28:38.070805Z",
     "shell.execute_reply": "2024-09-27T05:28:38.068627Z",
     "shell.execute_reply.started": "2024-09-27T05:28:37.414732Z"
    },
    "slideshow": {
     "slide_type": ""
    },
    "tags": []
   },
   "outputs": [
    {
     "name": "stdout",
     "output_type": "stream",
     "text": [
      "200\n"
     ]
    }
   ],
   "source": [
    "base_url = \"https://ec.europa.eu/eurostat/api/dissemination/sdmx/2.1/data/\"\n",
    "dataset_id = \"hbs_exp_t121\"\n",
    "params = {\n",
    "    'format':'JSON',\n",
    "    'lang':'en',\n",
    "    'startPeriod':2020,\n",
    "    'endPeriod':2020    \n",
    "}\n",
    "#\"/A.CP01+CP011+CP0111+CP01111+CP01113+CP01114+CP01116+CP01118+CP0112+CP01121+CP01122+CP01123+CP01124+CP01126_01127+CP01128A+CP01128B+CP0113+CP01131_01132+CP01133_01134+CP01135+CP01136+CP0114+CP01141+CP01142+CP01143+CP01144+CP01145+CP01146+CP01147+CP0115+CP01151+CP01152+CP01153+CP01154+CP01155+CP0116+CP0116A+CP0116B+CP0116C+CP0116D+CP0116E+CP0116F+CP0116G+CP01163+CP01164+CP0117+CP0117A+CP0117B+CP0117C+CP0117D+CP01173B+CP01173C+CP01174+CP01176+CP0118+CP01181+CP01182+CP01183+CP01184+CP01185+CP01186A+CP0119+CP01191+CP01192+CP01199+CP01199A+CP012+CP0121+CP01211+CP01212+CP01213+CP0122+CP01221+CP01222+CP01223A+CP01223C+CP02+CP021+CP0211+CP0212+CP0213+CP022+CP0220+CP023+CP0230+CP03+CP031+CP0311+CP0312+CP0313+CP0314+CP032+CP0321+CP0322+CP04+CP041+CP0411+CP0412+CP042+CP0421+CP0422+CP043+CP0431+CP0432+CP044+CP0441+CP0442+CP0443+CP0444+CP045+CP0451+CP0452+CP0453+CP0454+CP0455+CP05+CP051+CP0511+CP0512+CP0513+CP052+CP0520+CP053+CP0531+CP0532+CP0533+CP054+CP0540+CP055+CP0551+CP0552+CP056+CP0561+CP0562+CP06+CP061+CP0611+CP0612+CP0613+CP062+CP0621+CP0622+CP0623+CP063+CP0630+CP07+CP071+CP0711+CP0712+CP0713+CP0714+CP072+CP0721+CP0722+CP0723+CP0724+CP073+CP0731+CP0732+CP0733+CP0734+CP0735+CP0736+CP08+CP081+CP0810+CP082+CP0820+CP083+CP0830+CP09+CP091+CP0911+CP0912+CP0913+CP0914+CP0915+CP092+CP0921+CP0922+CP0923+CP093+CP0931+CP0932+CP0933+CP0934+CP0935+CP094+CP0941+CP0942+CP0943+CP095+CP0951+CP0952+CP0953+CP0954+CP096+CP0960+CP10+CP101+CP1010+CP102+CP1020+CP103+CP1030+CP104+CP1040+CP105+CP1050+CP11+CP111+CP1111+CP1112+CP112+CP1120+CP12+CP121+CP1211+CP1212+CP1213+CP122+CP1220+CP123+CP1231+CP1232+CP124+CP1240+CP125+CP1252+CP1253+CP1254+CP1255+CP126+CP1262+CP127+CP1270.PPS_HH.EU27_2020+EU28+EU27_2007+EU25+EU15+EA+EA18+EA17+EA13+EA12+BE+BG+CZ+DK+DE+EE+IE+EL+ES+FR+HR+IT+CY+LV+LT+LU+HU+MT+NL+AT+PL+PT+RO+SI+SK+FI+SE+EEA30_2007+EEA28+EFTA+NO+UK+ME+MK+RS+TR+XK/\n",
    "\n",
    "# Construct the full URL\n",
    "url = f\"{base_url}{dataset_id}\"\n",
    "\n",
    "# Make the GET request to fetch data from Eurostat API\n",
    "response = requests.get(url, params=params)\n",
    "print(response.status_code)"
   ]
  },
  {
   "cell_type": "code",
   "execution_count": 3,
   "id": "2fc1e9ee-d919-41ac-914c-c1f8918d5ae4",
   "metadata": {
    "execution": {
     "iopub.execute_input": "2024-09-27T05:28:38.075423Z",
     "iopub.status.busy": "2024-09-27T05:28:38.074495Z",
     "iopub.status.idle": "2024-09-27T05:28:38.092550Z",
     "shell.execute_reply": "2024-09-27T05:28:38.090115Z",
     "shell.execute_reply.started": "2024-09-27T05:28:38.075328Z"
    }
   },
   "outputs": [],
   "source": [
    "data = response.json()"
   ]
  },
  {
   "cell_type": "code",
   "execution_count": 4,
   "id": "e7996725-66a4-45c5-a459-23ff8469375f",
   "metadata": {
    "execution": {
     "iopub.execute_input": "2024-09-27T05:28:38.228738Z",
     "iopub.status.busy": "2024-09-27T05:28:38.227992Z",
     "iopub.status.idle": "2024-09-27T05:28:38.251639Z",
     "shell.execute_reply": "2024-09-27T05:28:38.250155Z",
     "shell.execute_reply.started": "2024-09-27T05:28:38.228673Z"
    }
   },
   "outputs": [
    {
     "data": {
      "text/plain": [
       "'Mean consumption expenditure per household by COICOP consumption purpose'"
      ]
     },
     "execution_count": 4,
     "metadata": {},
     "output_type": "execute_result"
    }
   ],
   "source": [
    "data['label']"
   ]
  },
  {
   "cell_type": "code",
   "execution_count": 5,
   "id": "8769ac45-c39c-47df-bcf1-507a44dd4c3c",
   "metadata": {
    "execution": {
     "iopub.execute_input": "2024-09-27T05:28:38.724614Z",
     "iopub.status.busy": "2024-09-27T05:28:38.723778Z",
     "iopub.status.idle": "2024-09-27T05:28:38.733780Z",
     "shell.execute_reply": "2024-09-27T05:28:38.731492Z",
     "shell.execute_reply.started": "2024-09-27T05:28:38.724544Z"
    }
   },
   "outputs": [],
   "source": [
    "dims = np.array(data['size'])\n",
    "dim_names = data['id']"
   ]
  },
  {
   "cell_type": "code",
   "execution_count": 6,
   "id": "f3f453f2-fe59-4081-8be6-7bc89478f22b",
   "metadata": {
    "execution": {
     "iopub.execute_input": "2024-09-27T05:28:39.501564Z",
     "iopub.status.busy": "2024-09-27T05:28:39.500790Z",
     "iopub.status.idle": "2024-09-27T05:28:39.528786Z",
     "shell.execute_reply": "2024-09-27T05:28:39.527724Z",
     "shell.execute_reply.started": "2024-09-27T05:28:39.501495Z"
    }
   },
   "outputs": [
    {
     "data": {
      "text/plain": [
       "{'freq': 'Time frequency',\n",
       " 'coicop': 'Classification of individual consumption by purpose (COICOP)',\n",
       " 'unit': 'Unit of measure',\n",
       " 'geo': 'Geopolitical entity (reporting)',\n",
       " 'time': 'Time'}"
      ]
     },
     "execution_count": 6,
     "metadata": {},
     "output_type": "execute_result"
    }
   ],
   "source": [
    "idx = pd.MultiIndex.from_product([pd.Series(data['dimension'][dim]['category']['index']).sort_values().index for dim in dim_names],names = dim_names)\n",
    "idx_df = pd.Series(np.arange(dims.prod()),index=idx)\n",
    "idx_maps = {dim:data['dimension'][dim]['category']['label'] for dim in dim_names}\n",
    "dim_labels = {dim:data['dimension'][dim]['label'] for dim in dim_names}\n",
    "single_dims = [dim for n, dim in zip(dims,dim_names) if n==1]\n",
    "dim_labels"
   ]
  },
  {
   "cell_type": "code",
   "execution_count": 7,
   "id": "5bbd39cf-6808-4600-ad9b-a26a356c7874",
   "metadata": {
    "execution": {
     "iopub.execute_input": "2024-09-27T05:28:39.976841Z",
     "iopub.status.busy": "2024-09-27T05:28:39.976092Z",
     "iopub.status.idle": "2024-09-27T05:28:39.999589Z",
     "shell.execute_reply": "2024-09-27T05:28:39.998444Z",
     "shell.execute_reply.started": "2024-09-27T05:28:39.976775Z"
    }
   },
   "outputs": [],
   "source": [
    "def index_values(values, idx_df):\n",
    "    values = pd.Series(values)\n",
    "    values.index = values.index.astype(int)\n",
    "    values.sort_index(inplace=True)\n",
    "    values = values.reindex(idx_df.values)\n",
    "    values.index = idx_df.index\n",
    "    return values\n",
    "values = index_values(data['value'], idx_df)\n",
    "status = index_values(data['status'], idx_df)"
   ]
  },
  {
   "cell_type": "code",
   "execution_count": 8,
   "id": "1fd37015-aca1-4e57-b06a-7f32d4bb1b66",
   "metadata": {
    "execution": {
     "iopub.execute_input": "2024-09-27T05:28:40.460934Z",
     "iopub.status.busy": "2024-09-27T05:28:40.460158Z",
     "iopub.status.idle": "2024-09-27T05:28:40.489400Z",
     "shell.execute_reply": "2024-09-27T05:28:40.488487Z",
     "shell.execute_reply.started": "2024-09-27T05:28:40.460868Z"
    }
   },
   "outputs": [
    {
     "data": {
      "text/html": [
       "<div>\n",
       "<style scoped>\n",
       "    .dataframe tbody tr th:only-of-type {\n",
       "        vertical-align: middle;\n",
       "    }\n",
       "\n",
       "    .dataframe tbody tr th {\n",
       "        vertical-align: top;\n",
       "    }\n",
       "\n",
       "    .dataframe thead th {\n",
       "        text-align: right;\n",
       "    }\n",
       "</style>\n",
       "<table border=\"1\" class=\"dataframe\">\n",
       "  <thead>\n",
       "    <tr style=\"text-align: right;\">\n",
       "      <th></th>\n",
       "      <th>values</th>\n",
       "      <th>label</th>\n",
       "    </tr>\n",
       "    <tr>\n",
       "      <th>coicop</th>\n",
       "      <th></th>\n",
       "      <th></th>\n",
       "    </tr>\n",
       "  </thead>\n",
       "  <tbody>\n",
       "    <tr>\n",
       "      <th>CP01</th>\n",
       "      <td>4913.0</td>\n",
       "      <td>Food and non-alcoholic beverages</td>\n",
       "    </tr>\n",
       "    <tr>\n",
       "      <th>CP011</th>\n",
       "      <td>4443.0</td>\n",
       "      <td>Food</td>\n",
       "    </tr>\n",
       "    <tr>\n",
       "      <th>CP0111</th>\n",
       "      <td>771.0</td>\n",
       "      <td>Bread and cereals</td>\n",
       "    </tr>\n",
       "    <tr>\n",
       "      <th>CP0112</th>\n",
       "      <td>1020.0</td>\n",
       "      <td>Meat</td>\n",
       "    </tr>\n",
       "    <tr>\n",
       "      <th>CP0113</th>\n",
       "      <td>330.0</td>\n",
       "      <td>Fish and seafood</td>\n",
       "    </tr>\n",
       "    <tr>\n",
       "      <th>...</th>\n",
       "      <td>...</td>\n",
       "      <td>...</td>\n",
       "    </tr>\n",
       "    <tr>\n",
       "      <th>CP1255</th>\n",
       "      <td>124.0</td>\n",
       "      <td>Other insurance</td>\n",
       "    </tr>\n",
       "    <tr>\n",
       "      <th>CP126</th>\n",
       "      <td>75.0</td>\n",
       "      <td>Financial services n.e.c.</td>\n",
       "    </tr>\n",
       "    <tr>\n",
       "      <th>CP1262</th>\n",
       "      <td>75.0</td>\n",
       "      <td>Other financial services n.e.c.</td>\n",
       "    </tr>\n",
       "    <tr>\n",
       "      <th>CP127</th>\n",
       "      <td>469.0</td>\n",
       "      <td>Other services n.e.c.</td>\n",
       "    </tr>\n",
       "    <tr>\n",
       "      <th>CP1270</th>\n",
       "      <td>469.0</td>\n",
       "      <td>Other services n.e.c.</td>\n",
       "    </tr>\n",
       "  </tbody>\n",
       "</table>\n",
       "<p>162 rows × 2 columns</p>\n",
       "</div>"
      ],
      "text/plain": [
       "        values                             label\n",
       "coicop                                          \n",
       "CP01    4913.0  Food and non-alcoholic beverages\n",
       "CP011   4443.0                              Food\n",
       "CP0111   771.0                 Bread and cereals\n",
       "CP0112  1020.0                              Meat\n",
       "CP0113   330.0                  Fish and seafood\n",
       "...        ...                               ...\n",
       "CP1255   124.0                   Other insurance\n",
       "CP126     75.0         Financial services n.e.c.\n",
       "CP1262    75.0   Other financial services n.e.c.\n",
       "CP127    469.0             Other services n.e.c.\n",
       "CP1270   469.0             Other services n.e.c.\n",
       "\n",
       "[162 rows x 2 columns]"
      ]
     },
     "execution_count": 8,
     "metadata": {},
     "output_type": "execute_result"
    }
   ],
   "source": [
    "country = 'BE'\n",
    "country_values = values.droplevel(single_dims).xs(country,level='geo').dropna()\n",
    "country_values = country_values[country_values>0]\n",
    "country_data = country_values.to_frame(name='values')\n",
    "country_data['label']=pd.Series(idx_maps[country_values.index.name])\n",
    "country_data"
   ]
  },
  {
   "cell_type": "code",
   "execution_count": 9,
   "id": "6f20a44c-6246-48b1-9b97-c936dcb55de9",
   "metadata": {
    "execution": {
     "iopub.execute_input": "2024-09-27T05:28:41.240639Z",
     "iopub.status.busy": "2024-09-27T05:28:41.239731Z",
     "iopub.status.idle": "2024-09-27T05:28:41.255134Z",
     "shell.execute_reply": "2024-09-27T05:28:41.254447Z",
     "shell.execute_reply.started": "2024-09-27T05:28:41.240571Z"
    }
   },
   "outputs": [],
   "source": [
    "coicop = country_data.index.to_series()\n",
    "tree_data = country_data.copy()\n",
    "\n",
    "tree_data['n']   = coicop.str.len()-4\n",
    "tree_data['parent']=coicop.apply(lambda x: x[0:-1] if len(x)>4 else x[0:-2])\n",
    "tree_data['total'] = tree_data['values']\n",
    "#for i in [1,0]:\n",
    "#    tree_data.loc[tree_data['n']==i,'values'] = country_data[tree_data['n']==i+1]['values'].groupby(tree_data['parent']).sum()\n",
    "\n",
    "for i in range(2):\n",
    "    tree_data.loc[tree_data['n']==i,'values'] = np.maximum(country_data[tree_data['n']==i]['values'] - country_data[tree_data['n']==i+1]['values'].groupby(tree_data['parent']).sum(),0)"
   ]
  },
  {
   "cell_type": "code",
   "execution_count": 44,
   "id": "84051670-f76f-4ea5-b51f-a07ac41e4f89",
   "metadata": {
    "execution": {
     "iopub.execute_input": "2024-09-27T20:14:12.985941Z",
     "iopub.status.busy": "2024-09-27T20:14:12.985524Z",
     "iopub.status.idle": "2024-09-27T20:14:12.992622Z",
     "shell.execute_reply": "2024-09-27T20:14:12.992006Z",
     "shell.execute_reply.started": "2024-09-27T20:14:12.985907Z"
    }
   },
   "outputs": [],
   "source": [
    "tree_data.loc['CP']={'n':-1,'parent':\"\",'label':'Total','values':0,'total':country_data.loc[tree_data['n']==0,'values'].sum()}"
   ]
  },
  {
   "cell_type": "code",
   "execution_count": 10,
   "id": "c0a7043e-aee1-44f4-9c64-565315250193",
   "metadata": {
    "execution": {
     "iopub.execute_input": "2024-09-27T05:28:41.987009Z",
     "iopub.status.busy": "2024-09-27T05:28:41.986226Z",
     "iopub.status.idle": "2024-09-27T05:28:42.233420Z",
     "shell.execute_reply": "2024-09-27T05:28:42.232643Z",
     "shell.execute_reply.started": "2024-09-27T05:28:41.986943Z"
    }
   },
   "outputs": [],
   "source": [
    "import plotly.express as px\n",
    "import plotly.io as pio\n",
    "pio.renderers.default='iframe'"
   ]
  },
  {
   "cell_type": "code",
   "execution_count": 45,
   "id": "55fb304b-2f11-4002-9fd9-abd6ccad852d",
   "metadata": {
    "execution": {
     "iopub.execute_input": "2024-09-27T20:14:19.248339Z",
     "iopub.status.busy": "2024-09-27T20:14:19.247802Z",
     "iopub.status.idle": "2024-09-27T20:14:19.325264Z",
     "shell.execute_reply": "2024-09-27T20:14:19.324652Z",
     "shell.execute_reply.started": "2024-09-27T20:14:19.248295Z"
    }
   },
   "outputs": [
    {
     "data": {
      "text/html": [
       "<iframe\n",
       "    scrolling=\"no\"\n",
       "    width=\"100%\"\n",
       "    height=\"545px\"\n",
       "    src=\"iframe_figures/figure_45.html\"\n",
       "    frameborder=\"0\"\n",
       "    allowfullscreen\n",
       "></iframe>\n"
      ]
     },
     "metadata": {},
     "output_type": "display_data"
    }
   ],
   "source": [
    "import plotly.graph_objects as go\n",
    "\n",
    "fig = go.Figure(go.Treemap(\n",
    "    ids = tree_data.index.values,\n",
    "    labels = tree_data['label'].values,\n",
    "    values = tree_data['values'].values,\n",
    "    parents = tree_data['parent'].values,\n",
    "    textinfo = \"label+percent entry\",\n",
    "    customdata = tree_data['total'].reset_index(),\n",
    "    hovertemplate='<b>%{label} </b> <br><br> COICOP: %{customdata[0]} <br> PPS       : %{customdata[1]:,d}<extra></extra>',\n",
    "    maxdepth=2,\n",
    "    root_color='rgb(220,220,250)',\n",
    "))\n",
    "\n",
    "fig.update_layout(\n",
    "    treemapcolorway = px.colors.qualitative.Pastel_r,\n",
    "    margin = dict(t=50, l=25, r=25, b=25)\n",
    ")\n",
    "fig.show()"
   ]
  },
  {
   "cell_type": "markdown",
   "id": "5e8cde02-f8b5-4188-9757-d2677ca7cd66",
   "metadata": {},
   "source": [
    "I have a hierarchical dataset that uses COICOP (Classification of Individual Consumption According to Purpose) codes to represent different categories and subcategories of consumption, each with a label description and values. COICOP is an international standard used to classify household consumption expenditures. It has a hierarchical structure where higher-level codes represent broader categories, and lower-level codes represent more specific subcategories. Here's a sample of the data in CSV format:\n",
    "\n",
    "```\n",
    "coicop,values,label\n",
    "CP01,4913.0,Food and non-alcoholic beverages\n",
    "CP011,4443.0,Food\n",
    "CP0111,771.0,Bread and cereals\n",
    "CP0112,1020.0,Meat\n",
    "CP0113,330.0,Fish and seafood\n",
    "...\n",
    "CP1255,124.0,Other insurance\n",
    "CP126,75.0,Financial services n.e.c.\n",
    "CP1262,75.0,Other financial services n.e.c.\n",
    "CP127,469.0,Other services n.e.c.\n",
    "CP1270,469.0,Other services n.e.c.\n",
    "```\n",
    "I would like to create a treemap visualization where:\n",
    "\n",
    "* The labels are displayed at all levels of the hierarchy instead of coicop codes.\n",
    "* The top-level categories are colored, preferably using pastel colors.\n",
    "* The coicop codes are displayed in the hover information at all levels (including both parent and child categories).\n",
    "* Only leaf nodes should contribute to the values. Parent nodes (summary categories) should be included in the hierarchy but not contribute to the value size, as their values represent sums of their subcategories.\n",
    "* In the hierarchy leave only leaf nodes as plotly will not handle it properly\n"
   ]
  },
  {
   "cell_type": "code",
   "execution_count": null,
   "id": "135f33d5-d142-4a04-878d-b789c939f543",
   "metadata": {},
   "outputs": [],
   "source": [
    "df = country_data.reset_index()\n"
   ]
  },
  {
   "cell_type": "code",
   "execution_count": 50,
   "id": "08844643-8a1a-401a-aa44-d3f4911fb493",
   "metadata": {
    "editable": true,
    "execution": {
     "iopub.execute_input": "2024-09-27T20:46:33.816618Z",
     "iopub.status.busy": "2024-09-27T20:46:33.816272Z",
     "iopub.status.idle": "2024-09-27T20:46:34.046061Z",
     "shell.execute_reply": "2024-09-27T20:46:34.045450Z",
     "shell.execute_reply.started": "2024-09-27T20:46:33.816589Z"
    },
    "slideshow": {
     "slide_type": ""
    },
    "tags": []
   },
   "outputs": [
    {
     "name": "stderr",
     "output_type": "stream",
     "text": [
      "/tmp/ipykernel_106676/2779532372.py:13: FutureWarning:\n",
      "\n",
      "Series.fillna with 'method' is deprecated and will raise in a future version. Use obj.ffill() or obj.bfill() instead.\n",
      "\n",
      "/tmp/ipykernel_106676/2779532372.py:14: FutureWarning:\n",
      "\n",
      "Series.fillna with 'method' is deprecated and will raise in a future version. Use obj.ffill() or obj.bfill() instead.\n",
      "\n",
      "/tmp/ipykernel_106676/2779532372.py:25: FutureWarning:\n",
      "\n",
      "Series.fillna with 'method' is deprecated and will raise in a future version. Use obj.ffill() or obj.bfill() instead.\n",
      "\n",
      "/tmp/ipykernel_106676/2779532372.py:26: FutureWarning:\n",
      "\n",
      "Series.fillna with 'method' is deprecated and will raise in a future version. Use obj.ffill() or obj.bfill() instead.\n",
      "\n"
     ]
    },
    {
     "data": {
      "text/html": [
       "<iframe\n",
       "    scrolling=\"no\"\n",
       "    width=\"100%\"\n",
       "    height=\"545px\"\n",
       "    src=\"iframe_figures/figure_50.html\"\n",
       "    frameborder=\"0\"\n",
       "    allowfullscreen\n",
       "></iframe>\n"
      ]
     },
     "metadata": {},
     "output_type": "display_data"
    }
   ],
   "source": [
    "# Identify non-leaf nodes (parents of other nodes)\n",
    "non_leaf = df['coicop'].apply(lambda x: any(df['coicop'].str.startswith(x) & (df['coicop'] != x)))\n",
    "\n",
    "# Set values for non-leaf nodes to NaN to avoid their inclusion in value calculation\n",
    "df['values'] = df['values'].where(~non_leaf, None)\n",
    "\n",
    "# Create hierarchical levels based on the coicop structure\n",
    "df['level1'] = df['label'].where(df['coicop'].str.len() == 4)   # Top level (e.g., CP01)\n",
    "df['level2'] = df['label'].where(df['coicop'].str.len() == 5)   # Second level (e.g., CP011)\n",
    "df['level3'] = df['label'].where(df['coicop'].str.len() == 6)   # Third level (e.g., CP0111)\n",
    "\n",
    "# Fill forward the levels for only those rows where the level is missing\n",
    "df['level1'] = df['level1'].fillna(method='ffill')\n",
    "df['level2'] = df['level2'].fillna(method='ffill')\n",
    "\n",
    "# Ensure there are no NaN values at any level\n",
    "df = df.dropna(subset=['level1', 'level2', 'label'])\n",
    "\n",
    "# Add `coicop` to hover data for each level (level1 and level2 nodes)\n",
    "df['level1_coicop'] = df['coicop'].where(df['coicop'].str.len() == 4)\n",
    "df['level2_coicop'] = df['coicop'].where(df['coicop'].str.len() == 5)\n",
    "df['leaf_coicop'] = df['coicop'].where(df['coicop'].str.len() == 6)\n",
    "\n",
    "# Fill forward coicop codes for parents\n",
    "df['level1_coicop'] = df['level1_coicop'].fillna(method='ffill')\n",
    "df['level2_coicop'] = df['level2_coicop'].fillna(method='ffill')\n",
    "\n",
    "# Create a treemap using plotly with pastel colors\n",
    "pastel_colors = px.colors.qualitative.Pastel  # Use Plotly's pastel color scheme\n",
    "\n",
    "fig = px.treemap(\n",
    "    df, \n",
    "    path=['level1', 'level2', 'label'],  # Use labels for hierarchy\n",
    "    values='values',  # Values for the leaf nodes\n",
    "    color='level1',   # Color based on the highest level (level1)\n",
    "    hover_data={\n",
    "        'level1_coicop': True,   # Show `coicop` for level1\n",
    "        'level2_coicop': True,   # Show `coicop` for level2\n",
    "        'leaf_coicop': True,     # Show `coicop` for leaf nodes\n",
    "        'values': True           # Show values on hover\n",
    "    },\n",
    "    color_discrete_sequence=pastel_colors  # Set the color palette to pastel\n",
    ")\n",
    "\n",
    "# Show the plot\n",
    "fig.show()\n",
    "\n"
   ]
  }
 ],
 "metadata": {
  "kernelspec": {
   "display_name": "Python [conda env:miniconda3-innovi]",
   "language": "python",
   "name": "conda-env-miniconda3-innovi-py"
  },
  "language_info": {
   "codemirror_mode": {
    "name": "ipython",
    "version": 3
   },
   "file_extension": ".py",
   "mimetype": "text/x-python",
   "name": "python",
   "nbconvert_exporter": "python",
   "pygments_lexer": "ipython3",
   "version": "3.12.6"
  }
 },
 "nbformat": 4,
 "nbformat_minor": 5
}
